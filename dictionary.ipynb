{
  "nbformat": 4,
  "nbformat_minor": 0,
  "metadata": {
    "colab": {
      "provenance": []
    },
    "kernelspec": {
      "name": "python3",
      "display_name": "Python 3"
    },
    "language_info": {
      "name": "python"
    }
  },
  "cells": [
    {
      "cell_type": "code",
      "execution_count": null,
      "metadata": {
        "id": "kC8ZP6LtBbwa"
      },
      "outputs": [],
      "source": [
        "#key is unique and values can be duplicated ,dictionary is always paired up with key and value.\n",
        "## dict is mutable\n",
        "\n"
      ]
    },
    {
      "cell_type": "code",
      "source": [
        "dict1={1:1,2:3,3:4.5,4:2,5:3,6:'pavan',7:'python',8:'data analysis',9:1}\n",
        "dict1"
      ],
      "metadata": {
        "colab": {
          "base_uri": "https://localhost:8080/"
        },
        "id": "b5utc_6hB2fr",
        "outputId": "f2eca3b0-8cc6-4020-f5c2-bc2337656951"
      },
      "execution_count": 3,
      "outputs": [
        {
          "output_type": "execute_result",
          "data": {
            "text/plain": [
              "{1: 1,\n",
              " 2: 3,\n",
              " 3: 4.5,\n",
              " 4: 2,\n",
              " 5: 3,\n",
              " 6: 'pavan',\n",
              " 7: 'python',\n",
              " 8: 'data analysis',\n",
              " 9: 1}"
            ]
          },
          "metadata": {},
          "execution_count": 3
        }
      ]
    },
    {
      "cell_type": "code",
      "source": [
        "dict1[4]"
      ],
      "metadata": {
        "colab": {
          "base_uri": "https://localhost:8080/"
        },
        "id": "1iJ3FrsBCGau",
        "outputId": "188aed3a-4a54-40cf-8557-5705e2a899bc"
      },
      "execution_count": 4,
      "outputs": [
        {
          "output_type": "execute_result",
          "data": {
            "text/plain": [
              "2"
            ]
          },
          "metadata": {},
          "execution_count": 4
        }
      ]
    },
    {
      "cell_type": "code",
      "source": [
        "dict1[9]"
      ],
      "metadata": {
        "colab": {
          "base_uri": "https://localhost:8080/"
        },
        "id": "X-fPEOqLDK5i",
        "outputId": "daea0241-9430-4a78-fb55-75e4d31d64fd"
      },
      "execution_count": 7,
      "outputs": [
        {
          "output_type": "execute_result",
          "data": {
            "text/plain": [
              "1"
            ]
          },
          "metadata": {},
          "execution_count": 7
        }
      ]
    },
    {
      "cell_type": "code",
      "source": [],
      "metadata": {
        "id": "4RfysZr9DSdH"
      },
      "execution_count": null,
      "outputs": []
    }
  ]
}